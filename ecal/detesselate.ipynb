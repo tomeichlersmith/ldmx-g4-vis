{
 "cells": [
  {
   "cell_type": "markdown",
   "id": "e9c00d33-20b5-4bd7-ba22-702466ee1787",
   "metadata": {},
   "source": [
    "# Extract Polygonal Boundary Points\n",
    "\n",
    "That's the goal..."
   ]
  },
  {
   "cell_type": "code",
   "execution_count": 2,
   "id": "b769abf7-39ed-4349-9a30-fec991700750",
   "metadata": {
    "jupyter": {
     "source_hidden": true
    },
    "tags": []
   },
   "outputs": [],
   "source": [
    "import xml.etree.ElementTree as ET\n",
    "\n",
    "def read_points(gdml_file, x_axis = 'x', y_axis = 'y', z_axis = 'z', z_cut = 0.5, reflect = None) :\n",
    "    tree = ET.parse(gdml_file)\n",
    "    positions = []\n",
    "    for definition in tree.getroot()[0] :\n",
    "        if definition.tag == 'position' and float(definition.attrib[z_axis]) < z_cut :\n",
    "            pt = [float(definition.attrib[x_axis]), float(definition.attrib[y_axis])]\n",
    "            if reflect is not None :\n",
    "                if reflect == 'x' :\n",
    "                    pt = [pt[0],-pt[1]]\n",
    "                elif reflect == 'y' :\n",
    "                    pt = [-pt[0],pt[1]]\n",
    "                else :\n",
    "                    raise KeyError(f'Reflection over {reflect} not provided.')\n",
    "            positions.append(pt)\n",
    "    return positions\n",
    "\n",
    "import matplotlib.pyplot as plt\n",
    "\n",
    "def scatter(pts) :\n",
    "    plt.scatter(*zip(*pts))\n",
    "\n",
    "def show_points(pts) :\n",
    "    scatter(pts)\n",
    "    plt.gca().set_aspect('equal')\n",
    "    plt.show()\n",
    "    \n",
    "def connect_points(pts) :\n",
    "    plt.plot(*zip(*pts))\n",
    "    plt.gca().set_aspect('equal')\n",
    "    plt.show()\n",
    "    \n",
    "def center(pts, center = 'avg') :\n",
    "    if len(pts) == 0 :\n",
    "        return pts\n",
    "    \n",
    "    center_pt = [0.,0.]\n",
    "    if isinstance(center,str) :\n",
    "        if center == 'avg' :\n",
    "            for x,y in pts :\n",
    "                center_pt[0] += x\n",
    "                center_pt[1] += y\n",
    "            center_pt[0] /= len(points)\n",
    "            center_pt[1] /= len(points)\n",
    "        elif center == 'half_max' :\n",
    "            center_pt = [max(x)/2 for x in zip(*pts)]\n",
    "        else :\n",
    "            raise KeyError(f'Center calculation {center} not recognized.')\n",
    "    else :\n",
    "        center_pt = center\n",
    "            \n",
    "    return [(x - center_pt[0], y - center_pt[1]) for x,y in pts]\n",
    "\n",
    "import math\n",
    "\n",
    "def unique(pts, too_close = 1.) :\n",
    "    unique_pts_grps = []\n",
    "    \n",
    "    def dist(p1, p2) :\n",
    "        return math.sqrt((p1[0]-p2[0])**2+(p1[1]-p2[1])**2)\n",
    "    \n",
    "    for pt in pts :\n",
    "        found_grp = False\n",
    "        for upg in unique_pts_grps :\n",
    "            if dist(upg[0],pt) < 40 :\n",
    "                upg.append(pt)\n",
    "                found_grp = True\n",
    "                break\n",
    "        if not found_grp :\n",
    "            unique_pts_grps.append([pt])\n",
    "\n",
    "    # the unique points are the average points within each unique point group\n",
    "    return [[sum(x)/len(x) for x in zip(*upg)] for upg in unique_pts_grps]\n",
    "\n",
    "def byangle(pt) :\n",
    "    \"\"\"sort by going around the circle\n",
    "    \n",
    "    assuming points are already centered on the origin\n",
    "    \n",
    "    https://stackoverflow.com/a/41856340\n",
    "    \"\"\"\n",
    "    (x,y) = pt\n",
    "    r = math.hypot(x,y)\n",
    "    if r == 0 :\n",
    "        return -math.pi, 0\n",
    "    angle = math.atan2(x/r,y/r)\n",
    "    if angle < 0 :\n",
    "        return 2*math.pi+angle, r\n",
    "    return angle, r\n",
    "\n",
    "def print_to_gdml_matrix(**kwargs) :\n",
    "    for name, pts in kwargs.items() :\n",
    "        newline_list = f'{pts[0][0]:.2f} {pts[0][1]:.2f}\\n' + '\\n'.join([f'                {x:.2f} {y:.2f}' for x,y in pts[1:]])\n",
    "        print(f'<matrix name=\"{name}\"')\n",
    "        print( '        coldim=\"2\"')\n",
    "        print(f'        values=\"{newline_list}\"/>')"
   ]
  },
  {
   "cell_type": "markdown",
   "id": "45525297-79c6-457d-af45-468d223d467e",
   "metadata": {
    "jp-MarkdownHeadingCollapsed": true,
    "tags": []
   },
   "source": [
    "## Tungsten"
   ]
  },
  {
   "cell_type": "code",
   "execution_count": 147,
   "id": "599725dc-a9df-46da-93f3-237ee313cf10",
   "metadata": {},
   "outputs": [
    {
     "data": {
      "image/png": "[encoded data removed]",
      "text/plain": [
       "<Figure size 432x288 with 1 Axes>"
      ]
     },
     "metadata": {
      "needs_background": "light"
     },
     "output_type": "display_data"
    }
   ],
   "source": [
    "points = read_points('tungsten_plate.gdml', x_axis = 'z', y_axis = 'x', z_axis = 'y', reflect = 'x')\n",
    "show_points(points)"
   ]
  },
  {
   "cell_type": "code",
   "execution_count": 151,
   "id": "11b9c71a-f3bc-4cdd-82fa-55a4530b8e83",
   "metadata": {},
   "outputs": [
    {
     "data": {
      "image/png": "[encoded data removed]",
      "text/plain": [
       "<Figure size 432x288 with 1 Axes>"
      ]
     },
     "metadata": {
      "needs_background": "light"
     },
     "output_type": "display_data"
    },
    {
     "data": {
      "text/plain": [
       "18"
      ]
     },
     "execution_count": 151,
     "metadata": {},
     "output_type": "execute_result"
    }
   ],
   "source": [
    "scatter(points)\n",
    "uniq_pts = unique(points, too_close=50.)\n",
    "show_points(uniq_pts)\n",
    "len(uniq_pts)"
   ]
  },
  {
   "cell_type": "code",
   "execution_count": 164,
   "id": "d0914b2a-bbdc-40fe-b899-475097708522",
   "metadata": {},
   "outputs": [
    {
     "data": {
      "text/plain": [
       "[[171.45, 0.0],\n",
       " [82.55, -51.32644],\n",
       " [508.0, -194.3072],\n",
       " [508.0, -296.9601],\n",
       " [253.99999999999997, -46.29787428571428],\n",
       " [81.37013714285715, -345.30159999999995],\n",
       " [426.62987142857145, -345.30160000000006],\n",
       " [254.00003999999998, -463.3822],\n",
       " [442.57579999999996, -136.7594],\n",
       " [425.45, -51.32644],\n",
       " [336.55, 0.0],\n",
       " [65.424242, -136.7594],\n",
       " [82.55, -439.9409],\n",
       " [171.45, -491.2674],\n",
       " [425.45, -439.9409],\n",
       " [336.55, -491.2674],\n",
       " [0.0, -296.9601],\n",
       " [0.0, -194.3072]]"
      ]
     },
     "execution_count": 164,
     "metadata": {},
     "output_type": "execute_result"
    }
   ],
   "source": [
    "uniq_pts"
   ]
  },
  {
   "cell_type": "code",
   "execution_count": 165,
   "id": "1bbc1fef-0027-4d23-8201-78ac5f574d69",
   "metadata": {},
   "outputs": [
    {
     "data": {
      "image/png": "[encoded data removed]",
      "text/plain": [
       "<Figure size 432x288 with 1 Axes>"
      ]
     },
     "metadata": {
      "needs_background": "light"
     },
     "output_type": "display_data"
    }
   ],
   "source": [
    "center_pts = center(uniq_pts, center = [508/2,-491.2674/2])\n",
    "show_points(center_pts)"
   ]
  },
  {
   "cell_type": "code",
   "execution_count": 166,
   "id": "955cc278-584f-440b-bc99-276cb3e19e04",
   "metadata": {},
   "outputs": [
    {
     "data": {
      "image/png": "[encoded data removed]",
      "text/plain": [
       "<Figure size 432x288 with 1 Axes>"
      ]
     },
     "metadata": {
      "needs_background": "light"
     },
     "output_type": "display_data"
    },
    {
     "data": {
      "image/png": "[encoded data removed]",
      "text/plain": [
       "<Figure size 432x288 with 1 Axes>"
      ]
     },
     "metadata": {
      "needs_background": "light"
     },
     "output_type": "display_data"
    }
   ],
   "source": [
    "connect_points(center_pts)\n",
    "sort_pts = list(sorted(center_pts, key = byangle))\n",
    "connect_points(sort_pts)"
   ]
  },
  {
   "cell_type": "code",
   "execution_count": 167,
   "id": "63cf66b3-8e58-4e55-9ce3-b659c0335dfb",
   "metadata": {},
   "outputs": [
    {
     "name": "stdout",
     "output_type": "stream",
     "text": [
      "<matrix name=\"absorber_polygon\"\n",
      "        coldim=\"2\"\n",
      "        values=\"82.55 245.63\n",
      "                171.45 194.31\n",
      "                188.58 108.87\n",
      "                254.00 51.33\n",
      "                254.00 -51.33\n",
      "                172.63 -99.67\n",
      "                171.45 -194.31\n",
      "                82.55 -245.63\n",
      "                0.00 -217.75\n",
      "                -82.55 -245.63\n",
      "                -171.45 -194.31\n",
      "                -172.63 -99.67\n",
      "                -254.00 -51.33\n",
      "                -254.00 51.33\n",
      "                -188.58 108.87\n",
      "                -171.45 194.31\n",
      "                -82.55 245.63\n",
      "                -0.00 199.34\"/>\n"
     ]
    }
   ],
   "source": [
    "print_to_gdml_matrix(absorber_polygon = sort_pts)"
   ]
  },
  {
   "cell_type": "code",
   "execution_count": null,
   "id": "851c92d3-c90d-470e-a544-a7d2664c75a7",
   "metadata": {},
   "outputs": [],
   "source": []
  },
  {
   "cell_type": "markdown",
   "id": "bb7e0b8d-f637-4efc-a32b-d80ea84b3774",
   "metadata": {
    "tags": []
   },
   "source": [
    "## Motherboard"
   ]
  },
  {
   "cell_type": "code",
   "execution_count": 20,
   "id": "aefaf220-b06e-4207-90e5-e216a6927f14",
   "metadata": {},
   "outputs": [
    {
     "data": {
      "image/png": "[encoded data removed]",
      "text/plain": [
       "<Figure size 432x288 with 1 Axes>"
      ]
     },
     "metadata": {
      "needs_background": "light"
     },
     "output_type": "display_data"
    }
   ],
   "source": [
    "points = read_points('motherboard5_assembly.gdml',x_axis='x',y_axis='z',z_axis='y',reflect='y',z_cut=1000)\n",
    "scatter(points)\n",
    "uniq_pts = unique(points)\n",
    "show_points(uniq_pts)"
   ]
  },
  {
   "cell_type": "code",
   "execution_count": 23,
   "id": "3dc1e498-08dd-40aa-ab65-3a989ac4b0b8",
   "metadata": {},
   "outputs": [
    {
     "name": "stdout",
     "output_type": "stream",
     "text": [
      "[-247.8682, 2.041042]\n",
      "[-247.8682, 2.041042]\n"
     ]
    }
   ],
   "source": [
    "for pt in points :\n",
    "    if pt[1] < 10 :\n",
    "        print(pt)"
   ]
  },
  {
   "cell_type": "code",
   "execution_count": 177,
   "id": "4f28b2c8-481b-4946-b54b-c0cd10ddc073",
   "metadata": {},
   "outputs": [
    {
     "data": {
      "image/png": "[encoded data removed]",
      "text/plain": [
       "<Figure size 432x288 with 1 Axes>"
      ]
     },
     "metadata": {
      "needs_background": "light"
     },
     "output_type": "display_data"
    }
   ],
   "source": [
    "# center MB on center of center hexagon\n",
    "center_pts = center(uniq_pts, center = [-148.8601, 408.2065/2])\n",
    "show_points(center_pts)"
   ]
  },
  {
   "cell_type": "code",
   "execution_count": 179,
   "id": "6091b42f-960f-4b6f-8135-3cd2d523cfe8",
   "metadata": {},
   "outputs": [
    {
     "data": {
      "image/png": "[encoded data removed]",
      "text/plain": [
       "<Figure size 432x288 with 1 Axes>"
      ]
     },
     "metadata": {
      "needs_background": "light"
     },
     "output_type": "display_data"
    }
   ],
   "source": [
    "connect_points(sorted(center_pts, key = byangle))"
   ]
  },
  {
   "cell_type": "code",
   "execution_count": 28,
   "id": "2a43cbb5-d870-4994-a8f9-a936e0c1888f",
   "metadata": {},
   "outputs": [
    {
     "data": {
      "image/png": "[encoded data removed]",
      "text/plain": [
       "<Figure size 432x288 with 1 Axes>"
      ]
     },
     "metadata": {
      "needs_background": "light"
     },
     "output_type": "display_data"
    }
   ],
   "source": [
    "points = read_points('motherboard6_assembly.gdml',x_axis='x',y_axis='z',z_axis='y', z_cut = 10000.)\n",
    "show_points(points)"
   ]
  },
  {
   "cell_type": "code",
   "execution_count": 29,
   "id": "c4685344-6cec-4dbc-a744-71bdc2fe1c8a",
   "metadata": {},
   "outputs": [
    {
     "name": "stdout",
     "output_type": "stream",
     "text": [
      "Highest        [255.2361, 446.2681]\n",
      "Highest        [255.2361, 446.2681]\n",
      "Furthest Right [397.8673, 242.1649]\n",
      "Furthest Right [397.8673, 242.1649]\n",
      "Furthest Left  [3.358484, 198.8941]\n",
      "Furthest Left  [3.358484, 198.8941]\n",
      "Furthest Left  [3.358484, 278.8941]\n",
      "Furthest Left  [3.358484, 278.8941]\n",
      "Lowest         [97.16431, 2.397666]\n",
      "Lowest         [97.16431, 2.397666]\n"
     ]
    },
    {
     "data": {
      "text/plain": [
       "[[106.2316, 10.69263],\n",
       " [204.4361, 67.39101],\n",
       " [106.2316, 10.69263],\n",
       " [204.4361, 67.39101],\n",
       " [15.35848, 168.0895],\n",
       " [15.35848, 168.0895],\n",
       " [15.35848, 271.4943],\n",
       " [15.35848, 271.4943],\n",
       " [120.4637, 271.4943],\n",
       " [120.4637, 271.4943],\n",
       " [171.2637, 300.8237],\n",
       " [171.2637, 300.8237],\n",
       " [204.4361, 358.2799],\n",
       " [204.4361, 358.2799],\n",
       " [204.4361, 416.9387],\n",
       " [204.4361, 416.9387],\n",
       " [255.2361, 446.2681],\n",
       " [255.2361, 446.2681],\n",
       " [306.0361, 416.9387],\n",
       " [306.0361, 416.9387],\n",
       " [306.0361, 358.2799],\n",
       " [306.0361, 358.2799],\n",
       " [309.8791, 292.9649],\n",
       " [309.8791, 292.9649],\n",
       " [368.5379, 292.9649],\n",
       " [368.5379, 292.9649],\n",
       " [397.8673, 242.1649],\n",
       " [397.8673, 242.1649],\n",
       " [368.5379, 191.3649],\n",
       " [368.5379, 191.3649],\n",
       " [309.8791, 191.3649],\n",
       " [309.8791, 191.3649],\n",
       " [306.0361, 126.0498],\n",
       " [306.0361, 126.0498],\n",
       " [306.0361, 67.39101],\n",
       " [306.0361, 67.39101],\n",
       " [255.2361, 38.06162],\n",
       " [255.2361, 38.06162],\n",
       " [155.72, 130.7285],\n",
       " [157.2247, 130.0268],\n",
       " [158.8285, 129.5971],\n",
       " [169.8628, 137.3234],\n",
       " [170.0075, 138.9774],\n",
       " [168.7314, 143.7399],\n",
       " [169.4331, 142.2351],\n",
       " [169.8628, 140.6314],\n",
       " [160.4825, 129.4524],\n",
       " [162.1365, 129.5971],\n",
       " [163.7402, 130.0268],\n",
       " [151.5319, 135.7196],\n",
       " [167.7791, 145.0999],\n",
       " [166.605, 146.2739],\n",
       " [165.245, 147.2263],\n",
       " [163.7402, 147.9279],\n",
       " [162.1365, 148.3577],\n",
       " [160.4825, 148.5024],\n",
       " [158.8285, 148.3577],\n",
       " [157.2247, 147.9279],\n",
       " [166.605, 131.6808],\n",
       " [167.7791, 132.8548],\n",
       " [152.2336, 143.7399],\n",
       " [151.5319, 142.2351],\n",
       " [151.1022, 140.6314],\n",
       " [150.9575, 138.9774],\n",
       " [151.1022, 137.3234],\n",
       " [152.2336, 134.2149],\n",
       " [153.1859, 132.8548],\n",
       " [154.3599, 131.6808],\n",
       " [168.7314, 134.2149],\n",
       " [169.4331, 135.7196],\n",
       " [155.72, 147.2263],\n",
       " [154.3599, 146.2739],\n",
       " [153.1859, 145.0999],\n",
       " [165.245, 130.7285],\n",
       " [150.9575, 138.9774],\n",
       " [151.1022, 140.6314],\n",
       " [151.5319, 142.2351],\n",
       " [152.2336, 143.7399],\n",
       " [158.8285, 129.5971],\n",
       " [157.2247, 130.0268],\n",
       " [155.72, 130.7285],\n",
       " [154.3599, 131.6808],\n",
       " [151.1022, 137.3234],\n",
       " [153.1859, 145.0999],\n",
       " [154.3599, 146.2739],\n",
       " [155.72, 147.2263],\n",
       " [162.1365, 148.3577],\n",
       " [163.7402, 147.9279],\n",
       " [165.245, 147.2263],\n",
       " [166.605, 146.2739],\n",
       " [169.8628, 140.6314],\n",
       " [169.4331, 142.2351],\n",
       " [167.7791, 145.0999],\n",
       " [168.7314, 143.7399],\n",
       " [153.1859, 132.8548],\n",
       " [152.2336, 134.2149],\n",
       " [151.5319, 135.7196],\n",
       " [157.2247, 147.9279],\n",
       " [158.8285, 148.3577],\n",
       " [160.4825, 148.5024],\n",
       " [170.0075, 138.9774],\n",
       " [169.8628, 137.3234],\n",
       " [169.4331, 135.7196],\n",
       " [166.605, 131.6808],\n",
       " [165.245, 130.7285],\n",
       " [163.7402, 130.0268],\n",
       " [162.1365, 129.5971],\n",
       " [160.4825, 129.4524],\n",
       " [168.7314, 134.2149],\n",
       " [167.7791, 132.8548],\n",
       " [58.60662, 93.18155],\n",
       " [65.53482, 97.18155],\n",
       " [58.60662, 93.18155],\n",
       " [65.53482, 97.18155],\n",
       " [27.60662, 146.8751],\n",
       " [27.60662, 146.8751],\n",
       " [34.53482, 150.8751],\n",
       " [34.53482, 150.8751],\n",
       " [52.71431, 79.38732],\n",
       " [121.9963, 119.3873],\n",
       " [52.71431, 79.38732],\n",
       " [121.9963, 119.3873],\n",
       " [12.71431, 148.6694],\n",
       " [12.71431, 148.6694],\n",
       " [81.99634, 188.6694],\n",
       " [81.99634, 188.6694],\n",
       " [63.14604, 118.319],\n",
       " [83.06462, 129.819],\n",
       " [63.14604, 118.319],\n",
       " [83.06462, 129.819],\n",
       " [51.64604, 138.2376],\n",
       " [51.64604, 138.2376],\n",
       " [71.56462, 149.7376],\n",
       " [71.56462, 149.7376],\n",
       " [100.1758, 117.1816],\n",
       " [107.104, 121.1816],\n",
       " [100.1758, 117.1816],\n",
       " [107.104, 121.1816],\n",
       " [69.17584, 170.8751],\n",
       " [69.17584, 170.8751],\n",
       " [76.10404, 174.8751],\n",
       " [76.10404, 174.8751],\n",
       " [15.35848, 207.8941],\n",
       " [23.35848, 207.8941],\n",
       " [15.35848, 207.8941],\n",
       " [23.35848, 207.8941],\n",
       " [15.35848, 269.8941],\n",
       " [15.35848, 269.8941],\n",
       " [23.35848, 269.8941],\n",
       " [23.35848, 269.8941],\n",
       " [3.358484, 198.8941],\n",
       " [83.35848, 198.8941],\n",
       " [3.358484, 198.8941],\n",
       " [83.35848, 198.8941],\n",
       " [3.358484, 278.8941],\n",
       " [3.358484, 278.8941],\n",
       " [83.35848, 278.8941],\n",
       " [83.35848, 278.8941],\n",
       " [31.85848, 227.3941],\n",
       " [54.85848, 227.3941],\n",
       " [31.85848, 227.3941],\n",
       " [54.85848, 227.3941],\n",
       " [31.85848, 250.3941],\n",
       " [31.85848, 250.3941],\n",
       " [54.85848, 250.3941],\n",
       " [54.85848, 250.3941],\n",
       " [63.35848, 207.8941],\n",
       " [71.35848, 207.8941],\n",
       " [63.35848, 207.8941],\n",
       " [71.35848, 207.8941],\n",
       " [63.35848, 269.8941],\n",
       " [63.35848, 269.8941],\n",
       " [71.35848, 269.8941],\n",
       " [71.35848, 269.8941],\n",
       " [103.0566, 16.19189],\n",
       " [109.9848, 20.1919],\n",
       " [103.0566, 16.19189],\n",
       " [109.9848, 20.1919],\n",
       " [72.05662, 69.88547],\n",
       " [72.05662, 69.88547],\n",
       " [78.98482, 73.88547],\n",
       " [78.98482, 73.88547],\n",
       " [97.16431, 2.397666],\n",
       " [166.4463, 42.39767],\n",
       " [97.16431, 2.397666],\n",
       " [166.4463, 42.39767],\n",
       " [57.16431, 71.6797],\n",
       " [57.16431, 71.6797],\n",
       " [126.4463, 111.6797],\n",
       " [126.4463, 111.6797],\n",
       " [107.596, 41.32939],\n",
       " [127.5146, 52.82939],\n",
       " [107.596, 41.32939],\n",
       " [127.5146, 52.82939],\n",
       " [96.09604, 61.24797],\n",
       " [96.09604, 61.24797],\n",
       " [116.0146, 72.74797],\n",
       " [116.0146, 72.74797],\n",
       " [144.6258, 40.19189],\n",
       " [151.554, 44.1919],\n",
       " [144.6258, 40.19189],\n",
       " [151.554, 44.1919],\n",
       " [113.6258, 93.88547],\n",
       " [113.6258, 93.88547],\n",
       " [120.554, 97.88547],\n",
       " [120.554, 97.88547]]"
      ]
     },
     "execution_count": 29,
     "metadata": {},
     "output_type": "execute_result"
    }
   ],
   "source": [
    "furthest_right=max(map(lambda pt : pt[0], points))\n",
    "furthest_left =min(map(lambda pt : pt[0], points))\n",
    "highest=max(map(lambda pt : pt[1], points))\n",
    "lowest=min(map(lambda pt : pt[1], points))\n",
    "for pt in points :\n",
    "    if pt[0] == furthest_right :\n",
    "        print('Furthest Right', pt)\n",
    "    if pt[0] == furthest_left :\n",
    "        print('Furthest Left ', pt)\n",
    "    if pt[1] == highest :\n",
    "        print('Highest       ', pt)\n",
    "    if pt[1] == lowest :\n",
    "        print('Lowest        ', pt)\n",
    "points"
   ]
  },
  {
   "cell_type": "code",
   "execution_count": null,
   "id": "119d89d3-298f-433a-b628-09cbca5cd357",
   "metadata": {},
   "outputs": [],
   "source": [
    "for pt in points :\n",
    "    if pt[0] == 369"
   ]
  },
  {
   "cell_type": "markdown",
   "id": "48ea6815-4501-4ae1-a1e6-add025069f35",
   "metadata": {},
   "source": [
    "## Support Box"
   ]
  },
  {
   "cell_type": "code",
   "execution_count": 30,
   "id": "a88df013-50ab-43f5-ab8a-d11d224e94cf",
   "metadata": {},
   "outputs": [
    {
     "data": {
      "image/png": "[encoded data removed]",
      "text/plain": [
       "<Figure size 432x288 with 1 Axes>"
      ]
     },
     "metadata": {
      "needs_background": "light"
     },
     "output_type": "display_data"
    }
   ],
   "source": [
    "points = read_points('support_box.gdml',z_cut=1000)\n",
    "show_points(points)"
   ]
  },
  {
   "cell_type": "code",
   "execution_count": 34,
   "id": "010a6115-488b-46ef-9aa6-d1caa8665bf8",
   "metadata": {},
   "outputs": [
    {
     "data": {
      "image/png": "[encoded data removed]",
      "text/plain": [
       "<Figure size 432x288 with 1 Axes>"
      ]
     },
     "metadata": {
      "needs_background": "light"
     },
     "output_type": "display_data"
    }
   ],
   "source": [
    "scatter(points)\n",
    "plt.axhline(522)\n",
    "plt.axvline(70)\n",
    "plt.show()"
   ]
  },
  {
   "cell_type": "code",
   "execution_count": 35,
   "id": "47684a9b-d639-4cdf-8adf-960fd6ba392b",
   "metadata": {},
   "outputs": [],
   "source": [
    "upper_left = [pt for pt in points if pt[0] > 70 and pt[0] < 400 and pt[1] > 300]\n",
    "lower_left = [pt for pt in points if pt[0] > 80 and pt[0] < 400 and pt[1] < 300]"
   ]
  },
  {
   "cell_type": "code",
   "execution_count": 37,
   "id": "ffba5d3d-d906-4f69-a24e-7c798e3b7651",
   "metadata": {},
   "outputs": [
    {
     "data": {
      "text/plain": [
       "520.7"
      ]
     },
     "execution_count": 37,
     "metadata": {},
     "output_type": "execute_result"
    }
   ],
   "source": [
    "min(map(lambda p : p[1],upper_left))"
   ]
  },
  {
   "cell_type": "code",
   "execution_count": 38,
   "id": "f0d447ae-dea1-424d-a9a7-ad347f3d9ade",
   "metadata": {},
   "outputs": [
    {
     "data": {
      "text/plain": [
       "12.7"
      ]
     },
     "execution_count": 38,
     "metadata": {},
     "output_type": "execute_result"
    }
   ],
   "source": [
    "max(map(lambda p : p[1], lower_left))"
   ]
  },
  {
   "cell_type": "code",
   "execution_count": null,
   "id": "f4e07e28-d008-49c8-a680-372ac7ac3cf5",
   "metadata": {},
   "outputs": [],
   "source": []
  }
 ],
 "metadata": {
  "kernelspec": {
   "display_name": "Python 3 (ipykernel)",
   "language": "python",
   "name": "python3"
  },
  "language_info": {
   "codemirror_mode": {
    "name": "ipython",
    "version": 3
   },
   "file_extension": ".py",
   "mimetype": "text/x-python",
   "name": "python",
   "nbconvert_exporter": "python",
   "pygments_lexer": "ipython3",
   "version": "3.10.4"
  }
 },
 "nbformat": 4,
 "nbformat_minor": 5
}
